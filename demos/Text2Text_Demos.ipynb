{
  "cells": [
    {
      "cell_type": "markdown",
      "metadata": {
        "id": "zL8uiXTHIrHI"
      },
      "source": [
        "# [Text2Text](https://github.com/artitw/text2text): Crosslingual NLP/G toolkit\n",
        "\n",
        "## How Crosslingual Models Work (click to watch)\n",
        "[![Crosslingual Models](http://img.youtube.com/vi/caZLVcJqsqo/0.jpg)](https://youtu.be/caZLVcJqsqo \"Crosslingual Models\")"
      ]
    },
    {
      "cell_type": "code",
      "execution_count": null,
      "metadata": {
        "colab": {
          "base_uri": "https://localhost:8080/"
        },
        "id": "R5p-YiGOJRLV",
        "outputId": "e1bc4e01-6b23-4273-d5d8-4faa7cd25486"
      },
      "outputs": [
        {
          "output_type": "stream",
          "name": "stdout",
          "text": [
            "\u001b[2K     \u001b[90m━━━━━━━━━━━━━━━━━━━━━━━━━━━━━━━━━━━━━━━━\u001b[0m \u001b[32m75.3/75.3 kB\u001b[0m \u001b[31m1.9 MB/s\u001b[0m eta \u001b[36m0:00:00\u001b[0m\n",
            "\u001b[2K     \u001b[90m━━━━━━━━━━━━━━━━━━━━━━━━━━━━━━━━━━━━━━\u001b[0m \u001b[32m219.1/219.1 kB\u001b[0m \u001b[31m11.7 MB/s\u001b[0m eta \u001b[36m0:00:00\u001b[0m\n",
            "\u001b[2K     \u001b[90m━━━━━━━━━━━━━━━━━━━━━━━━━━━━━━━━━━━━━━━\u001b[0m \u001b[32m104.3/104.3 MB\u001b[0m \u001b[31m6.1 MB/s\u001b[0m eta \u001b[36m0:00:00\u001b[0m\n",
            "\u001b[2K     \u001b[90m━━━━━━━━━━━━━━━━━━━━━━━━━━━━━━━━━━━━━━━━\u001b[0m \u001b[32m17.6/17.6 MB\u001b[0m \u001b[31m38.9 MB/s\u001b[0m eta \u001b[36m0:00:00\u001b[0m\n",
            "\u001b[2K     \u001b[90m━━━━━━━━━━━━━━━━━━━━━━━━━━━━━━━━━━━━━━━━\u001b[0m \u001b[32m1.3/1.3 MB\u001b[0m \u001b[31m35.1 MB/s\u001b[0m eta \u001b[36m0:00:00\u001b[0m\n",
            "\u001b[2K     \u001b[90m━━━━━━━━━━━━━━━━━━━━━━━━━━━━━━━━━━━━━━━━\u001b[0m \u001b[32m5.8/5.8 MB\u001b[0m \u001b[31m66.5 MB/s\u001b[0m eta \u001b[36m0:00:00\u001b[0m\n",
            "\u001b[2K     \u001b[90m━━━━━━━━━━━━━━━━━━━━━━━━━━━━━━━━━━━━━━━\u001b[0m \u001b[32m224.5/224.5 kB\u001b[0m \u001b[31m8.2 MB/s\u001b[0m eta \u001b[36m0:00:00\u001b[0m\n",
            "\u001b[2K     \u001b[90m━━━━━━━━━━━━━━━━━━━━━━━━━━━━━━━━━━━━━━━━\u001b[0m \u001b[32m7.8/7.8 MB\u001b[0m \u001b[31m89.5 MB/s\u001b[0m eta \u001b[36m0:00:00\u001b[0m\n",
            "\u001b[?25h"
          ]
        }
      ],
      "source": [
        "%%bash\n",
        "pip install -qq -U text2text"
      ]
    },
    {
      "cell_type": "code",
      "source": [
        "import text2text as t2t"
      ],
      "metadata": {
        "id": "6FIO1kNS1o9O"
      },
      "execution_count": null,
      "outputs": []
    },
    {
      "cell_type": "code",
      "source": [
        "### Assistant\n",
        "# Free private open source alternative to commercial LLMs.\n",
        "# Commercial LLMs are costly, collect your data, impose quotas and rate limits that hinder development.\n",
        "# Run at no cost on Google Colab free tier, so you don't even need your own device.\n",
        "# For more examples, see https://colab.research.google.com/drive/1K6Kk80w9vjFZ7PL9dPRgVuOPuaWcY4ae\n",
        "# To add a knowledge base, see https://colab.research.google.com/drive/1hkNgpSmmUA-mzUibqz25xq-E8KYOLuVx?usp=sharing\n",
        "\n",
        "asst = t2t.Assistant()\n",
        "\n",
        "# Streaming example\n",
        "chat_history = [\n",
        "    {\"role\": \"user\",  \"content\": \"Hi\"},\n",
        "    {\"role\": \"assistant\", \"content\": \"Hello, how are you?\"},\n",
        "    {\"role\": \"user\", \"content\": \"What should I do today?\"}\n",
        "]\n",
        "\n",
        "result = asst.chat_completion(chat_history, stream=True) #{'role': 'assistant', 'content': '1. Make a list of things to be grateful for.\\n2. Go outside and take a walk in nature.\\n3. Practice mindfulness meditation.\\n4. Connect with a loved one or friend.\\n5. Do something kind for someone else.\\n6. Engage in a creative activity like drawing or writing.\\n7. Read an uplifting book or listen to motivational podcasts.'}\n",
        "for chunk in result:\n",
        "  print(chunk['message']['content'], end='', flush=True)"
      ],
      "metadata": {
        "id": "VPMdUSy9YYRl"
      },
      "execution_count": null,
      "outputs": []
    },
    {
      "cell_type": "code",
      "source": [
        "# clear memory for other models\n",
        "del assistant"
      ],
      "metadata": {
        "id": "ZqvizPpXyH5W"
      },
      "execution_count": null,
      "outputs": []
    },
    {
      "cell_type": "code",
      "execution_count": null,
      "metadata": {
        "colab": {
          "base_uri": "https://localhost:8080/",
          "height": 211,
          "referenced_widgets": [
            "1d6a78f1a43c4485b256637967e345c6",
            "ef11287a42f74a22a8f5b696c5205a76",
            "b97e2c4a4daf4d12b24e093f01f2bc76",
            "eb6ffcf0c54d40d1b54de09f0d9cef8f",
            "be05f3fe728f4523bc6f6bbeb2a47c9d",
            "585f7e43e73647059afbb5967cfffbdd",
            "eff3af77463f4989ac7bf036278c65fb",
            "53879d056d984f868d1db3db65bc43a2",
            "f1c03e6473784dc1b86ea7d41467c2ba",
            "5584acb22b2346fc94c1807e5728faa1",
            "6d59a729ad064bbe8e0d396affd368f3",
            "618db86d253b457288f222452cb3f776",
            "7257125ca3cc48fb92f50c0227c56af3",
            "b6e3cbadc08c4cde90c01543761e7d38",
            "54c3196d0fc648598c11286ccb0f77fd",
            "bf1ad859aca64931b71158bbee609ae1",
            "68524b284e4648f7be6982d6cdf6efdf",
            "4c5e42adef5b4beb99bd9bb6be1296ef",
            "e30c156a586e491895b395d92ded8f64",
            "61cfb3c4c11848c7bf9e57b4bdb6d2b7",
            "36f59c70a8774ae3b48f9bd724743a94",
            "9a12d6111f3746a6aed38611c3fe9fc6",
            "dfe74de7110b48bea36e2e893ee201ea",
            "a3e1ea91a4de4be79292691e78a16d1e",
            "96b0297cb918423ea657ed0eaa4b8386",
            "42dabc8583324179bec904d99e89a02a",
            "627d72d6baf14cbc93fe7211c5401699",
            "7a93da6838804293919c24cfef22cf1a",
            "c157710ad7db4589b93c180504359621",
            "d9e42e34a8ac4c198caf525f4e18c4d2",
            "65d743576a6c411ea29eefd5f0f03f56",
            "aed1acdda9f840a58182395f8cf36469",
            "2facb8c4c0714d07b9be36dbd1e13ed9",
            "2b7df6278ff04d6b9024eeb7dfd409cc",
            "6ea307504a154905a83a1e9567b1b504",
            "5c649f50524945448a2ea6a39b48aad1",
            "c701d05475924b7caa96e3e192167d54",
            "cecbe926ffe643db85b08884a32fdb36",
            "34c333edac5a4038b8bf499fcc6ee39b",
            "6bddecb3f7694be5a16736bf1b4cc311",
            "9403cefbeb3e493ca1463de7d39b1858",
            "345b6821d1c546079c06a3318d68662f",
            "c9686b3c0ad2410387fc63ea68269acb",
            "3afe7f0114724daea926c31b2afa2813",
            "fff05a80388b44acaf7affcadbe6cc06",
            "e5c30a3f028940f09875589933827fe0",
            "203e91f7469d4a1e8a0ab47f1c44ff3f",
            "0abd96ac47ad4fc2b6862d98b2299441",
            "751a570a93454f7fb768ad76650b9f81",
            "fd9e85f54f8a42309f1e4d5b9e1a1780",
            "74daa0362ac1408788a915565ed22fe6",
            "e4ab7e802ae84d428b75c78b41cf2234",
            "4dfb79352ada4c33860509702c42a7e3",
            "79c3560e9f624f43b9e8f1e9b3e784ee",
            "f7a2efcb65c240278a22778ce0fbc7bc"
          ]
        },
        "id": "jiUl1ls51cuW",
        "outputId": "874350da-f1af-41fb-87b8-7a7f0d586fa7"
      },
      "outputs": [
        {
          "output_type": "stream",
          "name": "stdout",
          "text": [
            "Better speed can be achieved with apex installed.\n"
          ]
        },
        {
          "output_type": "display_data",
          "data": {
            "text/plain": [
              "Downloading (…)okenizer_config.json:   0%|          | 0.00/272 [00:00<?, ?B/s]"
            ],
            "application/vnd.jupyter.widget-view+json": {
              "version_major": 2,
              "version_minor": 0,
              "model_id": "1d6a78f1a43c4485b256637967e345c6"
            }
          },
          "metadata": {}
        },
        {
          "output_type": "display_data",
          "data": {
            "text/plain": [
              "Downloading (…)lve/main/config.json:   0%|          | 0.00/908 [00:00<?, ?B/s]"
            ],
            "application/vnd.jupyter.widget-view+json": {
              "version_major": 2,
              "version_minor": 0,
              "model_id": "618db86d253b457288f222452cb3f776"
            }
          },
          "metadata": {}
        },
        {
          "output_type": "display_data",
          "data": {
            "text/plain": [
              "Downloading (…)olve/main/vocab.json:   0%|          | 0.00/3.71M [00:00<?, ?B/s]"
            ],
            "application/vnd.jupyter.widget-view+json": {
              "version_major": 2,
              "version_minor": 0,
              "model_id": "dfe74de7110b48bea36e2e893ee201ea"
            }
          },
          "metadata": {}
        },
        {
          "output_type": "display_data",
          "data": {
            "text/plain": [
              "Downloading (…)tencepiece.bpe.model:   0%|          | 0.00/2.42M [00:00<?, ?B/s]"
            ],
            "application/vnd.jupyter.widget-view+json": {
              "version_major": 2,
              "version_minor": 0,
              "model_id": "2b7df6278ff04d6b9024eeb7dfd409cc"
            }
          },
          "metadata": {}
        },
        {
          "output_type": "display_data",
          "data": {
            "text/plain": [
              "Downloading (…)cial_tokens_map.json:   0%|          | 0.00/1.14k [00:00<?, ?B/s]"
            ],
            "application/vnd.jupyter.widget-view+json": {
              "version_major": 2,
              "version_minor": 0,
              "model_id": "fff05a80388b44acaf7affcadbe6cc06"
            }
          },
          "metadata": {}
        },
        {
          "output_type": "execute_result",
          "data": {
            "text/plain": [
              "[['▁Hello', ',', '▁World', '!']]"
            ]
          },
          "metadata": {},
          "execution_count": 2
        }
      ],
      "source": [
        "### Tokenizer\n",
        "tokenizer = t2t.Tokenizer()\n",
        "tokenizer.transform([\"Hello, World!\"])\n",
        "#[['▁Hello', ',', '▁World', '!']]"
      ]
    },
    {
      "cell_type": "code",
      "source": [
        "del tokenizer"
      ],
      "metadata": {
        "id": "waqveLQk5b2R"
      },
      "execution_count": null,
      "outputs": []
    },
    {
      "cell_type": "code",
      "execution_count": null,
      "metadata": {
        "colab": {
          "base_uri": "https://localhost:8080/",
          "height": 83,
          "referenced_widgets": [
            "a7630f0e2bc44d039b18158c45de8dac",
            "8a226e4347304d5ea9b29fe4441e07a9",
            "d0bc33cf6bd24d49a6f8d268a162e7aa",
            "e215d91d087a4c2b9e34276e6a1de47e",
            "93756e56e0c8478994ccd90fa873acc7",
            "61c8cdd8a4ff4561ad8a5d9d5abc6f7c",
            "5416f9d6393c4ec5933e6569a3d64408",
            "fa6373506f0c4c1bbe292b4ddc129202",
            "add12cd22ea64f019b151c76c5389359",
            "985c702463b845e1a4a48095955aba43",
            "bf302264bd3e4be6ad3c0a54bc106136"
          ]
        },
        "id": "kcTKpC5wS7Xs",
        "outputId": "be30573c-4193-42b9-faf2-ebbb01ddc926"
      },
      "outputs": [
        {
          "output_type": "display_data",
          "data": {
            "text/plain": [
              "Downloading:   0%|          | 0.00/1.94G [00:00<?, ?B/s]"
            ],
            "application/vnd.jupyter.widget-view+json": {
              "version_major": 2,
              "version_minor": 0,
              "model_id": "a7630f0e2bc44d039b18158c45de8dac"
            }
          },
          "metadata": {}
        },
        {
          "output_type": "execute_result",
          "data": {
            "text/plain": [
              "array([[0.0125036 , 0.00377429, 0.01060265, ..., 0.03131489, 0.04224026,\n",
              "        0.0292194 ]], dtype=float32)"
            ]
          },
          "metadata": {},
          "execution_count": 3
        }
      ],
      "source": [
        "vectorizer = t2t.Vectorizer()\n",
        "vectorizer.transform([\"Hello, World!\"]) #array([[0.18745188, 0.05658336, 0.15895301, ..., 0.46946704, 0.6332584 , 0.43805206]], dtype=float32)"
      ]
    },
    {
      "cell_type": "code",
      "source": [
        "del vectorizer"
      ],
      "metadata": {
        "id": "0VQxBw9d5dBt"
      },
      "execution_count": null,
      "outputs": []
    },
    {
      "cell_type": "code",
      "execution_count": null,
      "metadata": {
        "colab": {
          "base_uri": "https://localhost:8080/"
        },
        "id": "NtbMwkhTS9ID",
        "outputId": "a3891f46-2016-4d7a-9dcf-e514dbf02709"
      },
      "outputs": [
        {
          "output_type": "execute_result",
          "data": {
            "text/plain": [
              "[{'▁Hello': 0.5, ',': 0.5, '▁World': 0.5, '!': 0.5}]"
            ]
          },
          "metadata": {},
          "execution_count": 4
        }
      ],
      "source": [
        "tfidfer = t2t.Tfidfer()\n",
        "tfidfer.transform([\"Hello, World!\"]) #[{'!': 0.5, ',': 0.5, '▁Hello': 0.5, '▁World': 0.5}]"
      ]
    },
    {
      "cell_type": "code",
      "source": [
        "del tfidfer"
      ],
      "metadata": {
        "id": "aO5HsCqD5eFj"
      },
      "execution_count": null,
      "outputs": []
    },
    {
      "cell_type": "code",
      "execution_count": null,
      "metadata": {
        "colab": {
          "base_uri": "https://localhost:8080/"
        },
        "id": "PZd0nkVVnsYU",
        "outputId": "995417bf-4b0f-40dc-a2db-8a61d033b453"
      },
      "outputs": [
        {
          "output_type": "execute_result",
          "data": {
            "text/plain": [
              "[{'▁Hello': 0.3068528194400547,\n",
              "  ',': 0.3068528194400547,\n",
              "  '▁World': 0.3068528194400547,\n",
              "  '!': 0.3068528194400547}]"
            ]
          },
          "metadata": {},
          "execution_count": 5
        }
      ],
      "source": [
        "bm25er = t2t.Bm25er()\n",
        "bm25er.transform([\"Hello, World!\"]) #[{'!': 0.5, ',': 0.5, '▁Hello': 0.5, '▁World': 0.5}]"
      ]
    },
    {
      "cell_type": "code",
      "source": [
        "del bm25er"
      ],
      "metadata": {
        "id": "2rilrjim5e9G"
      },
      "execution_count": null,
      "outputs": []
    },
    {
      "cell_type": "code",
      "source": [
        "### Index for information retrieval\n",
        "# [STF-IDF Demo] https://colab.research.google.com/drive/1RaWj5SqWvyC2SsCTGg8IAVcl9G5hOB50?usp=sharing\n",
        "\n",
        "index = t2t.Indexer().transform([\n",
        "  \"Let's go hiking tomorrow, let's go!\",\n",
        "  \"안녕하세요.\",\n",
        "  \"돼지꿈을 꾸세요~~\",\n",
        "])\n",
        "\n",
        "index.retrieve([\"돼지\"], k=1) #[['\"돼지꿈을 꾸세요~~\"']]\n",
        "\n",
        "# Add documents incrementing on ids if none specified\n",
        "index.add([\"Hello, World! 你好,世界!\"])\n",
        "\n",
        "# Remove by ids\n",
        "index.remove([2]) #Removes \"안녕하세요.\"\n",
        "\n",
        "# Retrieve k results per query sorted by distance\n",
        "index.retrieve([\"你好, World\"], k=3)\n",
        "\n",
        "# To learn more, see [STF-IDF](https://arxiv.org/abs/2209.14281)."
      ],
      "metadata": {
        "id": "jWTF88R46-au",
        "colab": {
          "base_uri": "https://localhost:8080/"
        },
        "outputId": "a42f2a44-f169-4058-823e-e71bb4235f21"
      },
      "execution_count": null,
      "outputs": [
        {
          "output_type": "stream",
          "name": "stdout",
          "text": [
            "Creating index with 128104 dimensions.\n"
          ]
        },
        {
          "output_type": "execute_result",
          "data": {
            "text/plain": [
              "(array([[0.7752551],\n",
              "        [0.8452994],\n",
              "        [0.4347524]], dtype=float32), array([[102],\n",
              "        [101],\n",
              "        [100]]))"
            ]
          },
          "metadata": {},
          "execution_count": 22
        }
      ]
    },
    {
      "cell_type": "code",
      "source": [
        "del index"
      ],
      "metadata": {
        "id": "UDkgd_Iw5f-f"
      },
      "execution_count": null,
      "outputs": []
    },
    {
      "cell_type": "code",
      "execution_count": null,
      "metadata": {
        "colab": {
          "base_uri": "https://localhost:8080/"
        },
        "id": "ceb_OD6-S_Lx",
        "outputId": "7eebc6a0-dccf-410b-d58f-6e98e35badf7"
      },
      "outputs": [
        {
          "output_type": "stream",
          "name": "stderr",
          "text": [
            "/usr/local/lib/python3.8/dist-packages/transformers/generation/utils.py:1387: UserWarning: Neither `max_length` nor `max_new_tokens` has been set, `max_length` will default to 200 (`self.config.max_length`). Controlling `max_length` via the config is deprecated and `max_length` will be removed from the config in v5 of Transformers -- we recommend using `max_new_tokens` to control the maximum length of the generation.\n",
            "  warnings.warn(\n"
          ]
        },
        {
          "output_type": "execute_result",
          "data": {
            "text/plain": [
              "['你好,世界!']"
            ]
          },
          "metadata": {},
          "execution_count": 8
        }
      ],
      "source": [
        "translator = t2t.Translator()\n",
        "translator.transform([\"Hello, World!\"], src_lang=\"en\", tgt_lang=\"zh\") #['你好,世界!']"
      ]
    },
    {
      "cell_type": "code",
      "source": [
        "del translator"
      ],
      "metadata": {
        "id": "2yC0S6bx5lmi"
      },
      "execution_count": null,
      "outputs": []
    },
    {
      "cell_type": "code",
      "execution_count": null,
      "metadata": {
        "colab": {
          "base_uri": "https://localhost:8080/"
        },
        "id": "I9CDJUZ0TCVj",
        "outputId": "05ef3087-874e-49c6-f8d5-d2cd85b3dbb0"
      },
      "outputs": [
        {
          "output_type": "execute_result",
          "data": {
            "text/plain": [
              "['Hello the world!',\n",
              " 'My brother and sister!',\n",
              " 'Welcome to the world!',\n",
              " 'Hello, the world',\n",
              " '“No to the world”',\n",
              " 'It is clearly!',\n",
              " 'Welcome to the light!',\n",
              " 'Hello to the world!',\n",
              " 'Hello to the world!',\n",
              " 'Hello, it’s a good thing!',\n",
              " 'Congratulations to all!',\n",
              " 'Hello to the world!',\n",
              " 'Hello to the world!',\n",
              " 'Good Morning, the World',\n",
              " 'Welcome to the World!',\n",
              " 'Hello the world!',\n",
              " 'Hello the world!',\n",
              " 'Good morning to the world!',\n",
              " 'Hello, World!',\n",
              " 'Hello the world!',\n",
              " 'Fortunately the world!',\n",
              " 'Hello to the world!',\n",
              " 'We do it!',\n",
              " 'Welcome to the world!',\n",
              " 'Hello to the world!',\n",
              " 'Go to the world!',\n",
              " 'Member of the Board of Directors of the Board of Directors of the Board of Directors of the Board of Directors',\n",
              " 'The world.',\n",
              " 'Hello to the world!',\n",
              " 'and it is!',\n",
              " 'Hello, for the world!',\n",
              " 'Hello to the world!',\n",
              " 'Hello to the world!',\n",
              " 'Hello to the world!',\n",
              " 'Hello to the world!',\n",
              " 'Hello to the world!',\n",
              " 'Welcome to the world!',\n",
              " 'Congratulations to the world!',\n",
              " 'Hello to the World!',\n",
              " 'Around the world!',\n",
              " 'Well and well!',\n",
              " 'Hello to the world!',\n",
              " 'Hello to the world!',\n",
              " 'Congratulations to you!',\n",
              " 'Go to the world!',\n",
              " 'I am I am I am!',\n",
              " 'and the air!',\n",
              " 'and it is the one!',\n",
              " 'Hello the world!',\n",
              " 'Hello the world!',\n",
              " 'Hello, movie!',\n",
              " 'Moko!',\n",
              " 'Home » World!',\n",
              " 'Hello and the world!',\n",
              " 'Hello the world!',\n",
              " 'You are here in the world!',\n",
              " 'Hello to the world!',\n",
              " 'Hello the world!',\n",
              " 'The latest!',\n",
              " 'Hello to the world!',\n",
              " 'Welcome to the world!',\n",
              " 'The house!',\n",
              " 'Hello to the world!',\n",
              " 'Hello the world!',\n",
              " 'Hello the world!',\n",
              " 'Smooth!',\n",
              " 'Hello to the world!',\n",
              " 'It is the truth, it is the truth, it is the truth, it is the truth, it is the truth, it is the truth, it is the truth, it is the truth, it is the truth, it is the truth, it is the truth.',\n",
              " 'Hello, Europe!',\n",
              " 'Hello the world!',\n",
              " 'in the world!',\n",
              " 'Hello to the world!',\n",
              " 'Good day to the world!',\n",
              " 'Hello to the world!',\n",
              " 'Hello to the world!',\n",
              " 'Congratulations to the world!',\n",
              " 'Good Morning World!',\n",
              " 'Hello to the world!',\n",
              " 'Aaaaaaaaa',\n",
              " 'Hello to the world!',\n",
              " 'Welcome to the world!',\n",
              " 'Issues',\n",
              " 'In the words of the',\n",
              " 'Hello the world!',\n",
              " 'Hello to the world!',\n",
              " 'Hello to the world!',\n",
              " 'Hello world!',\n",
              " 'Hello to the world!',\n",
              " 'The name!',\n",
              " 'Hello the world!',\n",
              " 'I am in the world!',\n",
              " 'Hello to the world!',\n",
              " 'Hello O’Y’Y’Y!',\n",
              " 'Hello to the world!',\n",
              " 'Wish!',\n",
              " 'First of all!',\n",
              " 'Hello to the world!',\n",
              " 'It is there!',\n",
              " 'Hello the world!',\n",
              " 'First of all!']"
            ]
          },
          "metadata": {},
          "execution_count": 11
        }
      ],
      "source": [
        "### Variation\n",
        "# Useful for augmenting training data\n",
        "variator = t2t.Variator()\n",
        "variator.transform([\"Hello, World!\"], src_lang=\"en\") #['Hello the world!', 'Welcome to the world.', 'Hello to the world!',..."
      ]
    },
    {
      "cell_type": "code",
      "source": [
        "del variator"
      ],
      "metadata": {
        "id": "mpBWByHl5qXd"
      },
      "execution_count": null,
      "outputs": []
    },
    {
      "cell_type": "code",
      "execution_count": null,
      "metadata": {
        "colab": {
          "base_uri": "https://localhost:8080/"
        },
        "id": "8V3geqhhTFdc",
        "outputId": "469f6048-f4fd-4102-8501-256af6e06de2"
      },
      "outputs": [
        {
          "output_type": "execute_result",
          "data": {
            "text/plain": [
              "[2]"
            ]
          },
          "metadata": {},
          "execution_count": 13
        }
      ],
      "source": [
        "### Levenshtein Sub-word Edit Distance\n",
        "measurer = t2t.Measurer()\n",
        "measurer.transform([\"Hello, World! [SEP] Hello, what?\"]) #[2]\n",
        "measurer.transform([\n",
        "  \"Hello, World! [SEP] Hello, what?\",\n",
        "  \"안녕하세요. [SEP] 돼지꿈을 꾸세요~~\"\n",
        "], metric=\"levenshtein_distance\")"
      ]
    },
    {
      "cell_type": "code",
      "source": [
        "del measurer"
      ],
      "metadata": {
        "id": "JwSC9eNx5rVm"
      },
      "execution_count": null,
      "outputs": []
    },
    {
      "cell_type": "code",
      "source": [
        "server = t2t.Server(host='0.0.0.0', port=80)\n",
        "\n",
        "import time\n",
        "time.sleep(1)"
      ],
      "metadata": {
        "id": "hv72aPlE5ww1",
        "colab": {
          "base_uri": "https://localhost:8080/"
        },
        "outputId": "9cf4a32e-9e6d-4253-e72a-46b46df0e79b"
      },
      "execution_count": null,
      "outputs": [
        {
          "output_type": "stream",
          "name": "stdout",
          "text": [
            "Creating index with 128104 dimensions.\n",
            "Serving at http://172.28.0.12/\n",
            " * Serving Flask app \"text2text.server\" (lazy loading)\n"
          ]
        },
        {
          "output_type": "execute_result",
          "data": {
            "text/plain": [
              "<text2text.server.Server at 0x7f2cad2988e0>"
            ]
          },
          "metadata": {},
          "execution_count": 14
        },
        {
          "output_type": "stream",
          "name": "stdout",
          "text": [
            " * Environment: production\n",
            "\u001b[31m   WARNING: This is a development server. Do not use it in a production deployment.\u001b[0m\n",
            "\u001b[2m   Use a production WSGI server instead.\u001b[0m\n",
            " * Debug mode: off\n"
          ]
        }
      ]
    },
    {
      "cell_type": "code",
      "source": [
        "import socket\n",
        "import requests\n",
        "\n",
        "address = socket.gethostbyname(socket.getfqdn(socket.gethostname()))\n",
        "url = f\"http://{address}\"\n",
        "transformer = \"Translator\"\n",
        "payload = {\n",
        "  \"input_lines\": [\"hello\", \"world\"],\n",
        "  \"src_lang\": \"en\",\n",
        "  \"tgt_lang\": \"ko\",\n",
        "}\n",
        "r = requests.post(f\"{url}/{transformer}\", json=payload)\n",
        "print(r.json())\n",
        "r = requests.post(f\"{url}/Indexer/add\", json=payload)\n",
        "print(r.json())\n",
        "r = requests.post(f\"{url}/Indexer/size\", json=payload)\n",
        "print(r.json())\n",
        "r = requests.post(f\"{url}/Indexer/search\", json=payload)\n",
        "print(r.json())\n",
        "r = requests.post(f\"{url}/Indexer/retrieve\", json=payload)\n",
        "print(r.json())\n",
        "payload[\"ids\"] = [0,1]\n",
        "r = requests.post(f\"{url}/Indexer/remove\", json=payload)\n",
        "print(r.json())"
      ],
      "metadata": {
        "id": "KsMirskN5xcG",
        "colab": {
          "base_uri": "https://localhost:8080/"
        },
        "outputId": "36a5281c-b679-48dd-c431-065695e305f8"
      },
      "execution_count": null,
      "outputs": [
        {
          "output_type": "stream",
          "name": "stderr",
          "text": [
            "INFO:werkzeug: * Running on http://0.0.0.0:80/ (Press CTRL+C to quit)\n",
            "INFO:werkzeug:172.28.0.12 - - [15/Dec/2022 17:29:39] \"\u001b[37mPOST /translate HTTP/1.1\u001b[0m\" 200 -\n"
          ]
        },
        {
          "output_type": "stream",
          "name": "stdout",
          "text": [
            "{'result': ['안녕하세요', '세계']}\n"
          ]
        },
        {
          "output_type": "stream",
          "name": "stderr",
          "text": [
            "INFO:werkzeug:172.28.0.12 - - [15/Dec/2022 17:29:40] \"\u001b[37mPOST /index/add HTTP/1.1\u001b[0m\" 200 -\n",
            "INFO:werkzeug:172.28.0.12 - - [15/Dec/2022 17:29:40] \"\u001b[37mPOST /index/size HTTP/1.1\u001b[0m\" 200 -\n"
          ]
        },
        {
          "output_type": "stream",
          "name": "stdout",
          "text": [
            "{'result': 'index/add performed'}\n",
            "{'result': 2}\n"
          ]
        },
        {
          "output_type": "stream",
          "name": "stderr",
          "text": [
            "INFO:werkzeug:172.28.0.12 - - [15/Dec/2022 17:29:41] \"\u001b[37mPOST /index/search HTTP/1.1\u001b[0m\" 200 -\n",
            "INFO:werkzeug:172.28.0.12 - - [15/Dec/2022 17:29:41] \"\u001b[37mPOST /index/remove HTTP/1.1\u001b[0m\" 200 -\n"
          ]
        },
        {
          "output_type": "stream",
          "name": "stdout",
          "text": [
            "{'result': [[[0.0, 2.0, 3.4028234663852886e+38], [0.0, 2.0, 3.4028234663852886e+38]], [[1.0, 2.0, -1.0], [2.0, 1.0, -1.0]]]}\n",
            "{'result': 'index/remove performed'}\n"
          ]
        }
      ]
    },
    {
      "cell_type": "code",
      "source": [
        "del server"
      ],
      "metadata": {
        "id": "PHqmOon-5wwU"
      },
      "execution_count": null,
      "outputs": []
    },
    {
      "cell_type": "code",
      "execution_count": null,
      "metadata": {
        "colab": {
          "base_uri": "https://localhost:8080/"
        },
        "id": "F0RWWWrM83ov",
        "outputId": "400db902-d3d3-4922-d300-b6c0020094a1"
      },
      "outputs": [
        {
          "output_type": "execute_result",
          "data": {
            "text/plain": [
              "{'af': 'Afrikaans',\n",
              " 'am': 'Amharic',\n",
              " 'ar': 'Arabic',\n",
              " 'ast': 'Asturian',\n",
              " 'az': 'Azerbaijani',\n",
              " 'ba': 'Bashkir',\n",
              " 'be': 'Belarusian',\n",
              " 'bg': 'Bulgarian',\n",
              " 'bn': 'Bengali',\n",
              " 'br': 'Breton',\n",
              " 'bs': 'Bosnian',\n",
              " 'ca': 'Catalan_Valencian',\n",
              " 'ceb': 'Cebuano',\n",
              " 'cs': 'Czech',\n",
              " 'cy': 'Welsh',\n",
              " 'da': 'Danish',\n",
              " 'de': 'German',\n",
              " 'el': 'Greeek',\n",
              " 'en': 'English',\n",
              " 'es': 'Spanish',\n",
              " 'et': 'Estonian',\n",
              " 'fa': 'Persian',\n",
              " 'ff': 'Fulah',\n",
              " 'fi': 'Finnish',\n",
              " 'fr': 'French',\n",
              " 'fy': 'Western_Frisian',\n",
              " 'ga': 'Irish',\n",
              " 'gd': 'Gaelic_Scottish_Gaelic',\n",
              " 'gl': 'Galician',\n",
              " 'gu': 'Gujarati',\n",
              " 'ha': 'Hausa',\n",
              " 'he': 'Hebrew',\n",
              " 'hi': 'Hindi',\n",
              " 'hr': 'Croatian',\n",
              " 'ht': 'Haitian_Haitian_Creole',\n",
              " 'hu': 'Hungarian',\n",
              " 'hy': 'Armenian',\n",
              " 'id': 'Indonesian',\n",
              " 'ig': 'Igbo',\n",
              " 'ilo': 'Iloko',\n",
              " 'is': 'Icelandic',\n",
              " 'it': 'Italian',\n",
              " 'ja': 'Japanese',\n",
              " 'jv': 'Javanese',\n",
              " 'ka': 'Georgian',\n",
              " 'kk': 'Kazakh',\n",
              " 'km': 'Central_Khmer',\n",
              " 'kn': 'Kannada',\n",
              " 'ko': 'Korean',\n",
              " 'lb': 'Luxembourgish_Letzeburgesch',\n",
              " 'lg': 'Ganda',\n",
              " 'ln': 'Lingala',\n",
              " 'lo': 'Lao',\n",
              " 'lt': 'Lithuanian',\n",
              " 'lv': 'Latvian',\n",
              " 'mg': 'Malagasy',\n",
              " 'mk': 'Macedonian',\n",
              " 'ml': 'Malayalam',\n",
              " 'mn': 'Mongolian',\n",
              " 'mr': 'Marathi',\n",
              " 'ms': 'Malay',\n",
              " 'my': 'Burmese',\n",
              " 'ne': 'Nepali',\n",
              " 'nl': 'Dutch_Flemish',\n",
              " 'no': 'Norwegian',\n",
              " 'ns': 'Northern_Sotho',\n",
              " 'oc': 'Occitan',\n",
              " 'or': 'Oriya',\n",
              " 'pa': 'Panjabi_Punjabi',\n",
              " 'pl': 'Polish',\n",
              " 'ps': 'Pushto_Pashto',\n",
              " 'pt': 'Portuguese',\n",
              " 'ro': 'Romanian_Moldavian_Moldovan',\n",
              " 'ru': 'Russian',\n",
              " 'sd': 'Sindhi',\n",
              " 'si': 'Sinhala_Sinhalese',\n",
              " 'sk': 'Slovak',\n",
              " 'sl': 'Slovenian',\n",
              " 'so': 'Somali',\n",
              " 'sq': 'Albanian',\n",
              " 'sr': 'Serbian',\n",
              " 'ss': 'Swati',\n",
              " 'su': 'Sundanese',\n",
              " 'sv': 'Swedish',\n",
              " 'sw': 'Swahili',\n",
              " 'ta': 'Tamil',\n",
              " 'th': 'Thai',\n",
              " 'tl': 'Tagalog',\n",
              " 'tn': 'Tswana',\n",
              " 'tr': 'Turkish',\n",
              " 'uk': 'Ukrainian',\n",
              " 'ur': 'Urdu',\n",
              " 'uz': 'Uzbek',\n",
              " 'vi': 'Vietnamese',\n",
              " 'wo': 'Wolof',\n",
              " 'xh': 'Xhosa',\n",
              " 'yi': 'Yiddish',\n",
              " 'yo': 'Yoruba',\n",
              " 'zh': 'Chinese',\n",
              " 'zu': 'Zulu'}"
            ]
          },
          "metadata": {},
          "execution_count": 16
        }
      ],
      "source": [
        "### Languages Available\n",
        "t2t.Transformer.LANGUAGES"
      ]
    }
  ],
  "metadata": {
    "accelerator": "GPU",
    "colab": {
      "machine_shape": "hm",
      "provenance": []
    },
    "kernelspec": {
      "display_name": "Python 3",
      "name": "python3"
    },
    "widgets": {
      "application/vnd.jupyter.widget-state+json": {
        "a7630f0e2bc44d039b18158c45de8dac": {
          "model_module": "@jupyter-widgets/controls",
          "model_name": "HBoxModel",
          "model_module_version": "1.5.0",
          "state": {
            "_dom_classes": [],
            "_model_module": "@jupyter-widgets/controls",
            "_model_module_version": "1.5.0",
            "_model_name": "HBoxModel",
            "_view_count": null,
            "_view_module": "@jupyter-widgets/controls",
            "_view_module_version": "1.5.0",
            "_view_name": "HBoxView",
            "box_style": "",
            "children": [
              "IPY_MODEL_8a226e4347304d5ea9b29fe4441e07a9",
              "IPY_MODEL_d0bc33cf6bd24d49a6f8d268a162e7aa",
              "IPY_MODEL_e215d91d087a4c2b9e34276e6a1de47e"
            ],
            "layout": "IPY_MODEL_93756e56e0c8478994ccd90fa873acc7"
          }
        },
        "8a226e4347304d5ea9b29fe4441e07a9": {
          "model_module": "@jupyter-widgets/controls",
          "model_name": "HTMLModel",
          "model_module_version": "1.5.0",
          "state": {
            "_dom_classes": [],
            "_model_module": "@jupyter-widgets/controls",
            "_model_module_version": "1.5.0",
            "_model_name": "HTMLModel",
            "_view_count": null,
            "_view_module": "@jupyter-widgets/controls",
            "_view_module_version": "1.5.0",
            "_view_name": "HTMLView",
            "description": "",
            "description_tooltip": null,
            "layout": "IPY_MODEL_61c8cdd8a4ff4561ad8a5d9d5abc6f7c",
            "placeholder": "​",
            "style": "IPY_MODEL_5416f9d6393c4ec5933e6569a3d64408",
            "value": "Downloading: 100%"
          }
        },
        "d0bc33cf6bd24d49a6f8d268a162e7aa": {
          "model_module": "@jupyter-widgets/controls",
          "model_name": "FloatProgressModel",
          "model_module_version": "1.5.0",
          "state": {
            "_dom_classes": [],
            "_model_module": "@jupyter-widgets/controls",
            "_model_module_version": "1.5.0",
            "_model_name": "FloatProgressModel",
            "_view_count": null,
            "_view_module": "@jupyter-widgets/controls",
            "_view_module_version": "1.5.0",
            "_view_name": "ProgressView",
            "bar_style": "success",
            "description": "",
            "description_tooltip": null,
            "layout": "IPY_MODEL_fa6373506f0c4c1bbe292b4ddc129202",
            "max": 1935796948,
            "min": 0,
            "orientation": "horizontal",
            "style": "IPY_MODEL_add12cd22ea64f019b151c76c5389359",
            "value": 1935796948
          }
        },
        "e215d91d087a4c2b9e34276e6a1de47e": {
          "model_module": "@jupyter-widgets/controls",
          "model_name": "HTMLModel",
          "model_module_version": "1.5.0",
          "state": {
            "_dom_classes": [],
            "_model_module": "@jupyter-widgets/controls",
            "_model_module_version": "1.5.0",
            "_model_name": "HTMLModel",
            "_view_count": null,
            "_view_module": "@jupyter-widgets/controls",
            "_view_module_version": "1.5.0",
            "_view_name": "HTMLView",
            "description": "",
            "description_tooltip": null,
            "layout": "IPY_MODEL_985c702463b845e1a4a48095955aba43",
            "placeholder": "​",
            "style": "IPY_MODEL_bf302264bd3e4be6ad3c0a54bc106136",
            "value": " 1.94G/1.94G [00:26&lt;00:00, 75.1MB/s]"
          }
        },
        "93756e56e0c8478994ccd90fa873acc7": {
          "model_module": "@jupyter-widgets/base",
          "model_name": "LayoutModel",
          "model_module_version": "1.2.0",
          "state": {
            "_model_module": "@jupyter-widgets/base",
            "_model_module_version": "1.2.0",
            "_model_name": "LayoutModel",
            "_view_count": null,
            "_view_module": "@jupyter-widgets/base",
            "_view_module_version": "1.2.0",
            "_view_name": "LayoutView",
            "align_content": null,
            "align_items": null,
            "align_self": null,
            "border": null,
            "bottom": null,
            "display": null,
            "flex": null,
            "flex_flow": null,
            "grid_area": null,
            "grid_auto_columns": null,
            "grid_auto_flow": null,
            "grid_auto_rows": null,
            "grid_column": null,
            "grid_gap": null,
            "grid_row": null,
            "grid_template_areas": null,
            "grid_template_columns": null,
            "grid_template_rows": null,
            "height": null,
            "justify_content": null,
            "justify_items": null,
            "left": null,
            "margin": null,
            "max_height": null,
            "max_width": null,
            "min_height": null,
            "min_width": null,
            "object_fit": null,
            "object_position": null,
            "order": null,
            "overflow": null,
            "overflow_x": null,
            "overflow_y": null,
            "padding": null,
            "right": null,
            "top": null,
            "visibility": null,
            "width": null
          }
        },
        "61c8cdd8a4ff4561ad8a5d9d5abc6f7c": {
          "model_module": "@jupyter-widgets/base",
          "model_name": "LayoutModel",
          "model_module_version": "1.2.0",
          "state": {
            "_model_module": "@jupyter-widgets/base",
            "_model_module_version": "1.2.0",
            "_model_name": "LayoutModel",
            "_view_count": null,
            "_view_module": "@jupyter-widgets/base",
            "_view_module_version": "1.2.0",
            "_view_name": "LayoutView",
            "align_content": null,
            "align_items": null,
            "align_self": null,
            "border": null,
            "bottom": null,
            "display": null,
            "flex": null,
            "flex_flow": null,
            "grid_area": null,
            "grid_auto_columns": null,
            "grid_auto_flow": null,
            "grid_auto_rows": null,
            "grid_column": null,
            "grid_gap": null,
            "grid_row": null,
            "grid_template_areas": null,
            "grid_template_columns": null,
            "grid_template_rows": null,
            "height": null,
            "justify_content": null,
            "justify_items": null,
            "left": null,
            "margin": null,
            "max_height": null,
            "max_width": null,
            "min_height": null,
            "min_width": null,
            "object_fit": null,
            "object_position": null,
            "order": null,
            "overflow": null,
            "overflow_x": null,
            "overflow_y": null,
            "padding": null,
            "right": null,
            "top": null,
            "visibility": null,
            "width": null
          }
        },
        "5416f9d6393c4ec5933e6569a3d64408": {
          "model_module": "@jupyter-widgets/controls",
          "model_name": "DescriptionStyleModel",
          "model_module_version": "1.5.0",
          "state": {
            "_model_module": "@jupyter-widgets/controls",
            "_model_module_version": "1.5.0",
            "_model_name": "DescriptionStyleModel",
            "_view_count": null,
            "_view_module": "@jupyter-widgets/base",
            "_view_module_version": "1.2.0",
            "_view_name": "StyleView",
            "description_width": ""
          }
        },
        "fa6373506f0c4c1bbe292b4ddc129202": {
          "model_module": "@jupyter-widgets/base",
          "model_name": "LayoutModel",
          "model_module_version": "1.2.0",
          "state": {
            "_model_module": "@jupyter-widgets/base",
            "_model_module_version": "1.2.0",
            "_model_name": "LayoutModel",
            "_view_count": null,
            "_view_module": "@jupyter-widgets/base",
            "_view_module_version": "1.2.0",
            "_view_name": "LayoutView",
            "align_content": null,
            "align_items": null,
            "align_self": null,
            "border": null,
            "bottom": null,
            "display": null,
            "flex": null,
            "flex_flow": null,
            "grid_area": null,
            "grid_auto_columns": null,
            "grid_auto_flow": null,
            "grid_auto_rows": null,
            "grid_column": null,
            "grid_gap": null,
            "grid_row": null,
            "grid_template_areas": null,
            "grid_template_columns": null,
            "grid_template_rows": null,
            "height": null,
            "justify_content": null,
            "justify_items": null,
            "left": null,
            "margin": null,
            "max_height": null,
            "max_width": null,
            "min_height": null,
            "min_width": null,
            "object_fit": null,
            "object_position": null,
            "order": null,
            "overflow": null,
            "overflow_x": null,
            "overflow_y": null,
            "padding": null,
            "right": null,
            "top": null,
            "visibility": null,
            "width": null
          }
        },
        "add12cd22ea64f019b151c76c5389359": {
          "model_module": "@jupyter-widgets/controls",
          "model_name": "ProgressStyleModel",
          "model_module_version": "1.5.0",
          "state": {
            "_model_module": "@jupyter-widgets/controls",
            "_model_module_version": "1.5.0",
            "_model_name": "ProgressStyleModel",
            "_view_count": null,
            "_view_module": "@jupyter-widgets/base",
            "_view_module_version": "1.2.0",
            "_view_name": "StyleView",
            "bar_color": null,
            "description_width": ""
          }
        },
        "985c702463b845e1a4a48095955aba43": {
          "model_module": "@jupyter-widgets/base",
          "model_name": "LayoutModel",
          "model_module_version": "1.2.0",
          "state": {
            "_model_module": "@jupyter-widgets/base",
            "_model_module_version": "1.2.0",
            "_model_name": "LayoutModel",
            "_view_count": null,
            "_view_module": "@jupyter-widgets/base",
            "_view_module_version": "1.2.0",
            "_view_name": "LayoutView",
            "align_content": null,
            "align_items": null,
            "align_self": null,
            "border": null,
            "bottom": null,
            "display": null,
            "flex": null,
            "flex_flow": null,
            "grid_area": null,
            "grid_auto_columns": null,
            "grid_auto_flow": null,
            "grid_auto_rows": null,
            "grid_column": null,
            "grid_gap": null,
            "grid_row": null,
            "grid_template_areas": null,
            "grid_template_columns": null,
            "grid_template_rows": null,
            "height": null,
            "justify_content": null,
            "justify_items": null,
            "left": null,
            "margin": null,
            "max_height": null,
            "max_width": null,
            "min_height": null,
            "min_width": null,
            "object_fit": null,
            "object_position": null,
            "order": null,
            "overflow": null,
            "overflow_x": null,
            "overflow_y": null,
            "padding": null,
            "right": null,
            "top": null,
            "visibility": null,
            "width": null
          }
        },
        "bf302264bd3e4be6ad3c0a54bc106136": {
          "model_module": "@jupyter-widgets/controls",
          "model_name": "DescriptionStyleModel",
          "model_module_version": "1.5.0",
          "state": {
            "_model_module": "@jupyter-widgets/controls",
            "_model_module_version": "1.5.0",
            "_model_name": "DescriptionStyleModel",
            "_view_count": null,
            "_view_module": "@jupyter-widgets/base",
            "_view_module_version": "1.2.0",
            "_view_name": "StyleView",
            "description_width": ""
          }
        },
        "1d6a78f1a43c4485b256637967e345c6": {
          "model_module": "@jupyter-widgets/controls",
          "model_name": "HBoxModel",
          "model_module_version": "1.5.0",
          "state": {
            "_dom_classes": [],
            "_model_module": "@jupyter-widgets/controls",
            "_model_module_version": "1.5.0",
            "_model_name": "HBoxModel",
            "_view_count": null,
            "_view_module": "@jupyter-widgets/controls",
            "_view_module_version": "1.5.0",
            "_view_name": "HBoxView",
            "box_style": "",
            "children": [
              "IPY_MODEL_ef11287a42f74a22a8f5b696c5205a76",
              "IPY_MODEL_b97e2c4a4daf4d12b24e093f01f2bc76",
              "IPY_MODEL_eb6ffcf0c54d40d1b54de09f0d9cef8f"
            ],
            "layout": "IPY_MODEL_be05f3fe728f4523bc6f6bbeb2a47c9d"
          }
        },
        "ef11287a42f74a22a8f5b696c5205a76": {
          "model_module": "@jupyter-widgets/controls",
          "model_name": "HTMLModel",
          "model_module_version": "1.5.0",
          "state": {
            "_dom_classes": [],
            "_model_module": "@jupyter-widgets/controls",
            "_model_module_version": "1.5.0",
            "_model_name": "HTMLModel",
            "_view_count": null,
            "_view_module": "@jupyter-widgets/controls",
            "_view_module_version": "1.5.0",
            "_view_name": "HTMLView",
            "description": "",
            "description_tooltip": null,
            "layout": "IPY_MODEL_585f7e43e73647059afbb5967cfffbdd",
            "placeholder": "​",
            "style": "IPY_MODEL_eff3af77463f4989ac7bf036278c65fb",
            "value": "Downloading (…)okenizer_config.json: 100%"
          }
        },
        "b97e2c4a4daf4d12b24e093f01f2bc76": {
          "model_module": "@jupyter-widgets/controls",
          "model_name": "FloatProgressModel",
          "model_module_version": "1.5.0",
          "state": {
            "_dom_classes": [],
            "_model_module": "@jupyter-widgets/controls",
            "_model_module_version": "1.5.0",
            "_model_name": "FloatProgressModel",
            "_view_count": null,
            "_view_module": "@jupyter-widgets/controls",
            "_view_module_version": "1.5.0",
            "_view_name": "ProgressView",
            "bar_style": "success",
            "description": "",
            "description_tooltip": null,
            "layout": "IPY_MODEL_53879d056d984f868d1db3db65bc43a2",
            "max": 272,
            "min": 0,
            "orientation": "horizontal",
            "style": "IPY_MODEL_f1c03e6473784dc1b86ea7d41467c2ba",
            "value": 272
          }
        },
        "eb6ffcf0c54d40d1b54de09f0d9cef8f": {
          "model_module": "@jupyter-widgets/controls",
          "model_name": "HTMLModel",
          "model_module_version": "1.5.0",
          "state": {
            "_dom_classes": [],
            "_model_module": "@jupyter-widgets/controls",
            "_model_module_version": "1.5.0",
            "_model_name": "HTMLModel",
            "_view_count": null,
            "_view_module": "@jupyter-widgets/controls",
            "_view_module_version": "1.5.0",
            "_view_name": "HTMLView",
            "description": "",
            "description_tooltip": null,
            "layout": "IPY_MODEL_5584acb22b2346fc94c1807e5728faa1",
            "placeholder": "​",
            "style": "IPY_MODEL_6d59a729ad064bbe8e0d396affd368f3",
            "value": " 272/272 [00:00&lt;00:00, 16.2kB/s]"
          }
        },
        "be05f3fe728f4523bc6f6bbeb2a47c9d": {
          "model_module": "@jupyter-widgets/base",
          "model_name": "LayoutModel",
          "model_module_version": "1.2.0",
          "state": {
            "_model_module": "@jupyter-widgets/base",
            "_model_module_version": "1.2.0",
            "_model_name": "LayoutModel",
            "_view_count": null,
            "_view_module": "@jupyter-widgets/base",
            "_view_module_version": "1.2.0",
            "_view_name": "LayoutView",
            "align_content": null,
            "align_items": null,
            "align_self": null,
            "border": null,
            "bottom": null,
            "display": null,
            "flex": null,
            "flex_flow": null,
            "grid_area": null,
            "grid_auto_columns": null,
            "grid_auto_flow": null,
            "grid_auto_rows": null,
            "grid_column": null,
            "grid_gap": null,
            "grid_row": null,
            "grid_template_areas": null,
            "grid_template_columns": null,
            "grid_template_rows": null,
            "height": null,
            "justify_content": null,
            "justify_items": null,
            "left": null,
            "margin": null,
            "max_height": null,
            "max_width": null,
            "min_height": null,
            "min_width": null,
            "object_fit": null,
            "object_position": null,
            "order": null,
            "overflow": null,
            "overflow_x": null,
            "overflow_y": null,
            "padding": null,
            "right": null,
            "top": null,
            "visibility": null,
            "width": null
          }
        },
        "585f7e43e73647059afbb5967cfffbdd": {
          "model_module": "@jupyter-widgets/base",
          "model_name": "LayoutModel",
          "model_module_version": "1.2.0",
          "state": {
            "_model_module": "@jupyter-widgets/base",
            "_model_module_version": "1.2.0",
            "_model_name": "LayoutModel",
            "_view_count": null,
            "_view_module": "@jupyter-widgets/base",
            "_view_module_version": "1.2.0",
            "_view_name": "LayoutView",
            "align_content": null,
            "align_items": null,
            "align_self": null,
            "border": null,
            "bottom": null,
            "display": null,
            "flex": null,
            "flex_flow": null,
            "grid_area": null,
            "grid_auto_columns": null,
            "grid_auto_flow": null,
            "grid_auto_rows": null,
            "grid_column": null,
            "grid_gap": null,
            "grid_row": null,
            "grid_template_areas": null,
            "grid_template_columns": null,
            "grid_template_rows": null,
            "height": null,
            "justify_content": null,
            "justify_items": null,
            "left": null,
            "margin": null,
            "max_height": null,
            "max_width": null,
            "min_height": null,
            "min_width": null,
            "object_fit": null,
            "object_position": null,
            "order": null,
            "overflow": null,
            "overflow_x": null,
            "overflow_y": null,
            "padding": null,
            "right": null,
            "top": null,
            "visibility": null,
            "width": null
          }
        },
        "eff3af77463f4989ac7bf036278c65fb": {
          "model_module": "@jupyter-widgets/controls",
          "model_name": "DescriptionStyleModel",
          "model_module_version": "1.5.0",
          "state": {
            "_model_module": "@jupyter-widgets/controls",
            "_model_module_version": "1.5.0",
            "_model_name": "DescriptionStyleModel",
            "_view_count": null,
            "_view_module": "@jupyter-widgets/base",
            "_view_module_version": "1.2.0",
            "_view_name": "StyleView",
            "description_width": ""
          }
        },
        "53879d056d984f868d1db3db65bc43a2": {
          "model_module": "@jupyter-widgets/base",
          "model_name": "LayoutModel",
          "model_module_version": "1.2.0",
          "state": {
            "_model_module": "@jupyter-widgets/base",
            "_model_module_version": "1.2.0",
            "_model_name": "LayoutModel",
            "_view_count": null,
            "_view_module": "@jupyter-widgets/base",
            "_view_module_version": "1.2.0",
            "_view_name": "LayoutView",
            "align_content": null,
            "align_items": null,
            "align_self": null,
            "border": null,
            "bottom": null,
            "display": null,
            "flex": null,
            "flex_flow": null,
            "grid_area": null,
            "grid_auto_columns": null,
            "grid_auto_flow": null,
            "grid_auto_rows": null,
            "grid_column": null,
            "grid_gap": null,
            "grid_row": null,
            "grid_template_areas": null,
            "grid_template_columns": null,
            "grid_template_rows": null,
            "height": null,
            "justify_content": null,
            "justify_items": null,
            "left": null,
            "margin": null,
            "max_height": null,
            "max_width": null,
            "min_height": null,
            "min_width": null,
            "object_fit": null,
            "object_position": null,
            "order": null,
            "overflow": null,
            "overflow_x": null,
            "overflow_y": null,
            "padding": null,
            "right": null,
            "top": null,
            "visibility": null,
            "width": null
          }
        },
        "f1c03e6473784dc1b86ea7d41467c2ba": {
          "model_module": "@jupyter-widgets/controls",
          "model_name": "ProgressStyleModel",
          "model_module_version": "1.5.0",
          "state": {
            "_model_module": "@jupyter-widgets/controls",
            "_model_module_version": "1.5.0",
            "_model_name": "ProgressStyleModel",
            "_view_count": null,
            "_view_module": "@jupyter-widgets/base",
            "_view_module_version": "1.2.0",
            "_view_name": "StyleView",
            "bar_color": null,
            "description_width": ""
          }
        },
        "5584acb22b2346fc94c1807e5728faa1": {
          "model_module": "@jupyter-widgets/base",
          "model_name": "LayoutModel",
          "model_module_version": "1.2.0",
          "state": {
            "_model_module": "@jupyter-widgets/base",
            "_model_module_version": "1.2.0",
            "_model_name": "LayoutModel",
            "_view_count": null,
            "_view_module": "@jupyter-widgets/base",
            "_view_module_version": "1.2.0",
            "_view_name": "LayoutView",
            "align_content": null,
            "align_items": null,
            "align_self": null,
            "border": null,
            "bottom": null,
            "display": null,
            "flex": null,
            "flex_flow": null,
            "grid_area": null,
            "grid_auto_columns": null,
            "grid_auto_flow": null,
            "grid_auto_rows": null,
            "grid_column": null,
            "grid_gap": null,
            "grid_row": null,
            "grid_template_areas": null,
            "grid_template_columns": null,
            "grid_template_rows": null,
            "height": null,
            "justify_content": null,
            "justify_items": null,
            "left": null,
            "margin": null,
            "max_height": null,
            "max_width": null,
            "min_height": null,
            "min_width": null,
            "object_fit": null,
            "object_position": null,
            "order": null,
            "overflow": null,
            "overflow_x": null,
            "overflow_y": null,
            "padding": null,
            "right": null,
            "top": null,
            "visibility": null,
            "width": null
          }
        },
        "6d59a729ad064bbe8e0d396affd368f3": {
          "model_module": "@jupyter-widgets/controls",
          "model_name": "DescriptionStyleModel",
          "model_module_version": "1.5.0",
          "state": {
            "_model_module": "@jupyter-widgets/controls",
            "_model_module_version": "1.5.0",
            "_model_name": "DescriptionStyleModel",
            "_view_count": null,
            "_view_module": "@jupyter-widgets/base",
            "_view_module_version": "1.2.0",
            "_view_name": "StyleView",
            "description_width": ""
          }
        },
        "618db86d253b457288f222452cb3f776": {
          "model_module": "@jupyter-widgets/controls",
          "model_name": "HBoxModel",
          "model_module_version": "1.5.0",
          "state": {
            "_dom_classes": [],
            "_model_module": "@jupyter-widgets/controls",
            "_model_module_version": "1.5.0",
            "_model_name": "HBoxModel",
            "_view_count": null,
            "_view_module": "@jupyter-widgets/controls",
            "_view_module_version": "1.5.0",
            "_view_name": "HBoxView",
            "box_style": "",
            "children": [
              "IPY_MODEL_7257125ca3cc48fb92f50c0227c56af3",
              "IPY_MODEL_b6e3cbadc08c4cde90c01543761e7d38",
              "IPY_MODEL_54c3196d0fc648598c11286ccb0f77fd"
            ],
            "layout": "IPY_MODEL_bf1ad859aca64931b71158bbee609ae1"
          }
        },
        "7257125ca3cc48fb92f50c0227c56af3": {
          "model_module": "@jupyter-widgets/controls",
          "model_name": "HTMLModel",
          "model_module_version": "1.5.0",
          "state": {
            "_dom_classes": [],
            "_model_module": "@jupyter-widgets/controls",
            "_model_module_version": "1.5.0",
            "_model_name": "HTMLModel",
            "_view_count": null,
            "_view_module": "@jupyter-widgets/controls",
            "_view_module_version": "1.5.0",
            "_view_name": "HTMLView",
            "description": "",
            "description_tooltip": null,
            "layout": "IPY_MODEL_68524b284e4648f7be6982d6cdf6efdf",
            "placeholder": "​",
            "style": "IPY_MODEL_4c5e42adef5b4beb99bd9bb6be1296ef",
            "value": "Downloading (…)lve/main/config.json: 100%"
          }
        },
        "b6e3cbadc08c4cde90c01543761e7d38": {
          "model_module": "@jupyter-widgets/controls",
          "model_name": "FloatProgressModel",
          "model_module_version": "1.5.0",
          "state": {
            "_dom_classes": [],
            "_model_module": "@jupyter-widgets/controls",
            "_model_module_version": "1.5.0",
            "_model_name": "FloatProgressModel",
            "_view_count": null,
            "_view_module": "@jupyter-widgets/controls",
            "_view_module_version": "1.5.0",
            "_view_name": "ProgressView",
            "bar_style": "success",
            "description": "",
            "description_tooltip": null,
            "layout": "IPY_MODEL_e30c156a586e491895b395d92ded8f64",
            "max": 908,
            "min": 0,
            "orientation": "horizontal",
            "style": "IPY_MODEL_61cfb3c4c11848c7bf9e57b4bdb6d2b7",
            "value": 908
          }
        },
        "54c3196d0fc648598c11286ccb0f77fd": {
          "model_module": "@jupyter-widgets/controls",
          "model_name": "HTMLModel",
          "model_module_version": "1.5.0",
          "state": {
            "_dom_classes": [],
            "_model_module": "@jupyter-widgets/controls",
            "_model_module_version": "1.5.0",
            "_model_name": "HTMLModel",
            "_view_count": null,
            "_view_module": "@jupyter-widgets/controls",
            "_view_module_version": "1.5.0",
            "_view_name": "HTMLView",
            "description": "",
            "description_tooltip": null,
            "layout": "IPY_MODEL_36f59c70a8774ae3b48f9bd724743a94",
            "placeholder": "​",
            "style": "IPY_MODEL_9a12d6111f3746a6aed38611c3fe9fc6",
            "value": " 908/908 [00:00&lt;00:00, 66.3kB/s]"
          }
        },
        "bf1ad859aca64931b71158bbee609ae1": {
          "model_module": "@jupyter-widgets/base",
          "model_name": "LayoutModel",
          "model_module_version": "1.2.0",
          "state": {
            "_model_module": "@jupyter-widgets/base",
            "_model_module_version": "1.2.0",
            "_model_name": "LayoutModel",
            "_view_count": null,
            "_view_module": "@jupyter-widgets/base",
            "_view_module_version": "1.2.0",
            "_view_name": "LayoutView",
            "align_content": null,
            "align_items": null,
            "align_self": null,
            "border": null,
            "bottom": null,
            "display": null,
            "flex": null,
            "flex_flow": null,
            "grid_area": null,
            "grid_auto_columns": null,
            "grid_auto_flow": null,
            "grid_auto_rows": null,
            "grid_column": null,
            "grid_gap": null,
            "grid_row": null,
            "grid_template_areas": null,
            "grid_template_columns": null,
            "grid_template_rows": null,
            "height": null,
            "justify_content": null,
            "justify_items": null,
            "left": null,
            "margin": null,
            "max_height": null,
            "max_width": null,
            "min_height": null,
            "min_width": null,
            "object_fit": null,
            "object_position": null,
            "order": null,
            "overflow": null,
            "overflow_x": null,
            "overflow_y": null,
            "padding": null,
            "right": null,
            "top": null,
            "visibility": null,
            "width": null
          }
        },
        "68524b284e4648f7be6982d6cdf6efdf": {
          "model_module": "@jupyter-widgets/base",
          "model_name": "LayoutModel",
          "model_module_version": "1.2.0",
          "state": {
            "_model_module": "@jupyter-widgets/base",
            "_model_module_version": "1.2.0",
            "_model_name": "LayoutModel",
            "_view_count": null,
            "_view_module": "@jupyter-widgets/base",
            "_view_module_version": "1.2.0",
            "_view_name": "LayoutView",
            "align_content": null,
            "align_items": null,
            "align_self": null,
            "border": null,
            "bottom": null,
            "display": null,
            "flex": null,
            "flex_flow": null,
            "grid_area": null,
            "grid_auto_columns": null,
            "grid_auto_flow": null,
            "grid_auto_rows": null,
            "grid_column": null,
            "grid_gap": null,
            "grid_row": null,
            "grid_template_areas": null,
            "grid_template_columns": null,
            "grid_template_rows": null,
            "height": null,
            "justify_content": null,
            "justify_items": null,
            "left": null,
            "margin": null,
            "max_height": null,
            "max_width": null,
            "min_height": null,
            "min_width": null,
            "object_fit": null,
            "object_position": null,
            "order": null,
            "overflow": null,
            "overflow_x": null,
            "overflow_y": null,
            "padding": null,
            "right": null,
            "top": null,
            "visibility": null,
            "width": null
          }
        },
        "4c5e42adef5b4beb99bd9bb6be1296ef": {
          "model_module": "@jupyter-widgets/controls",
          "model_name": "DescriptionStyleModel",
          "model_module_version": "1.5.0",
          "state": {
            "_model_module": "@jupyter-widgets/controls",
            "_model_module_version": "1.5.0",
            "_model_name": "DescriptionStyleModel",
            "_view_count": null,
            "_view_module": "@jupyter-widgets/base",
            "_view_module_version": "1.2.0",
            "_view_name": "StyleView",
            "description_width": ""
          }
        },
        "e30c156a586e491895b395d92ded8f64": {
          "model_module": "@jupyter-widgets/base",
          "model_name": "LayoutModel",
          "model_module_version": "1.2.0",
          "state": {
            "_model_module": "@jupyter-widgets/base",
            "_model_module_version": "1.2.0",
            "_model_name": "LayoutModel",
            "_view_count": null,
            "_view_module": "@jupyter-widgets/base",
            "_view_module_version": "1.2.0",
            "_view_name": "LayoutView",
            "align_content": null,
            "align_items": null,
            "align_self": null,
            "border": null,
            "bottom": null,
            "display": null,
            "flex": null,
            "flex_flow": null,
            "grid_area": null,
            "grid_auto_columns": null,
            "grid_auto_flow": null,
            "grid_auto_rows": null,
            "grid_column": null,
            "grid_gap": null,
            "grid_row": null,
            "grid_template_areas": null,
            "grid_template_columns": null,
            "grid_template_rows": null,
            "height": null,
            "justify_content": null,
            "justify_items": null,
            "left": null,
            "margin": null,
            "max_height": null,
            "max_width": null,
            "min_height": null,
            "min_width": null,
            "object_fit": null,
            "object_position": null,
            "order": null,
            "overflow": null,
            "overflow_x": null,
            "overflow_y": null,
            "padding": null,
            "right": null,
            "top": null,
            "visibility": null,
            "width": null
          }
        },
        "61cfb3c4c11848c7bf9e57b4bdb6d2b7": {
          "model_module": "@jupyter-widgets/controls",
          "model_name": "ProgressStyleModel",
          "model_module_version": "1.5.0",
          "state": {
            "_model_module": "@jupyter-widgets/controls",
            "_model_module_version": "1.5.0",
            "_model_name": "ProgressStyleModel",
            "_view_count": null,
            "_view_module": "@jupyter-widgets/base",
            "_view_module_version": "1.2.0",
            "_view_name": "StyleView",
            "bar_color": null,
            "description_width": ""
          }
        },
        "36f59c70a8774ae3b48f9bd724743a94": {
          "model_module": "@jupyter-widgets/base",
          "model_name": "LayoutModel",
          "model_module_version": "1.2.0",
          "state": {
            "_model_module": "@jupyter-widgets/base",
            "_model_module_version": "1.2.0",
            "_model_name": "LayoutModel",
            "_view_count": null,
            "_view_module": "@jupyter-widgets/base",
            "_view_module_version": "1.2.0",
            "_view_name": "LayoutView",
            "align_content": null,
            "align_items": null,
            "align_self": null,
            "border": null,
            "bottom": null,
            "display": null,
            "flex": null,
            "flex_flow": null,
            "grid_area": null,
            "grid_auto_columns": null,
            "grid_auto_flow": null,
            "grid_auto_rows": null,
            "grid_column": null,
            "grid_gap": null,
            "grid_row": null,
            "grid_template_areas": null,
            "grid_template_columns": null,
            "grid_template_rows": null,
            "height": null,
            "justify_content": null,
            "justify_items": null,
            "left": null,
            "margin": null,
            "max_height": null,
            "max_width": null,
            "min_height": null,
            "min_width": null,
            "object_fit": null,
            "object_position": null,
            "order": null,
            "overflow": null,
            "overflow_x": null,
            "overflow_y": null,
            "padding": null,
            "right": null,
            "top": null,
            "visibility": null,
            "width": null
          }
        },
        "9a12d6111f3746a6aed38611c3fe9fc6": {
          "model_module": "@jupyter-widgets/controls",
          "model_name": "DescriptionStyleModel",
          "model_module_version": "1.5.0",
          "state": {
            "_model_module": "@jupyter-widgets/controls",
            "_model_module_version": "1.5.0",
            "_model_name": "DescriptionStyleModel",
            "_view_count": null,
            "_view_module": "@jupyter-widgets/base",
            "_view_module_version": "1.2.0",
            "_view_name": "StyleView",
            "description_width": ""
          }
        },
        "dfe74de7110b48bea36e2e893ee201ea": {
          "model_module": "@jupyter-widgets/controls",
          "model_name": "HBoxModel",
          "model_module_version": "1.5.0",
          "state": {
            "_dom_classes": [],
            "_model_module": "@jupyter-widgets/controls",
            "_model_module_version": "1.5.0",
            "_model_name": "HBoxModel",
            "_view_count": null,
            "_view_module": "@jupyter-widgets/controls",
            "_view_module_version": "1.5.0",
            "_view_name": "HBoxView",
            "box_style": "",
            "children": [
              "IPY_MODEL_a3e1ea91a4de4be79292691e78a16d1e",
              "IPY_MODEL_96b0297cb918423ea657ed0eaa4b8386",
              "IPY_MODEL_42dabc8583324179bec904d99e89a02a"
            ],
            "layout": "IPY_MODEL_627d72d6baf14cbc93fe7211c5401699"
          }
        },
        "a3e1ea91a4de4be79292691e78a16d1e": {
          "model_module": "@jupyter-widgets/controls",
          "model_name": "HTMLModel",
          "model_module_version": "1.5.0",
          "state": {
            "_dom_classes": [],
            "_model_module": "@jupyter-widgets/controls",
            "_model_module_version": "1.5.0",
            "_model_name": "HTMLModel",
            "_view_count": null,
            "_view_module": "@jupyter-widgets/controls",
            "_view_module_version": "1.5.0",
            "_view_name": "HTMLView",
            "description": "",
            "description_tooltip": null,
            "layout": "IPY_MODEL_7a93da6838804293919c24cfef22cf1a",
            "placeholder": "​",
            "style": "IPY_MODEL_c157710ad7db4589b93c180504359621",
            "value": "Downloading (…)olve/main/vocab.json: 100%"
          }
        },
        "96b0297cb918423ea657ed0eaa4b8386": {
          "model_module": "@jupyter-widgets/controls",
          "model_name": "FloatProgressModel",
          "model_module_version": "1.5.0",
          "state": {
            "_dom_classes": [],
            "_model_module": "@jupyter-widgets/controls",
            "_model_module_version": "1.5.0",
            "_model_name": "FloatProgressModel",
            "_view_count": null,
            "_view_module": "@jupyter-widgets/controls",
            "_view_module_version": "1.5.0",
            "_view_name": "ProgressView",
            "bar_style": "success",
            "description": "",
            "description_tooltip": null,
            "layout": "IPY_MODEL_d9e42e34a8ac4c198caf525f4e18c4d2",
            "max": 3708092,
            "min": 0,
            "orientation": "horizontal",
            "style": "IPY_MODEL_65d743576a6c411ea29eefd5f0f03f56",
            "value": 3708092
          }
        },
        "42dabc8583324179bec904d99e89a02a": {
          "model_module": "@jupyter-widgets/controls",
          "model_name": "HTMLModel",
          "model_module_version": "1.5.0",
          "state": {
            "_dom_classes": [],
            "_model_module": "@jupyter-widgets/controls",
            "_model_module_version": "1.5.0",
            "_model_name": "HTMLModel",
            "_view_count": null,
            "_view_module": "@jupyter-widgets/controls",
            "_view_module_version": "1.5.0",
            "_view_name": "HTMLView",
            "description": "",
            "description_tooltip": null,
            "layout": "IPY_MODEL_aed1acdda9f840a58182395f8cf36469",
            "placeholder": "​",
            "style": "IPY_MODEL_2facb8c4c0714d07b9be36dbd1e13ed9",
            "value": " 3.71M/3.71M [00:00&lt;00:00, 15.3MB/s]"
          }
        },
        "627d72d6baf14cbc93fe7211c5401699": {
          "model_module": "@jupyter-widgets/base",
          "model_name": "LayoutModel",
          "model_module_version": "1.2.0",
          "state": {
            "_model_module": "@jupyter-widgets/base",
            "_model_module_version": "1.2.0",
            "_model_name": "LayoutModel",
            "_view_count": null,
            "_view_module": "@jupyter-widgets/base",
            "_view_module_version": "1.2.0",
            "_view_name": "LayoutView",
            "align_content": null,
            "align_items": null,
            "align_self": null,
            "border": null,
            "bottom": null,
            "display": null,
            "flex": null,
            "flex_flow": null,
            "grid_area": null,
            "grid_auto_columns": null,
            "grid_auto_flow": null,
            "grid_auto_rows": null,
            "grid_column": null,
            "grid_gap": null,
            "grid_row": null,
            "grid_template_areas": null,
            "grid_template_columns": null,
            "grid_template_rows": null,
            "height": null,
            "justify_content": null,
            "justify_items": null,
            "left": null,
            "margin": null,
            "max_height": null,
            "max_width": null,
            "min_height": null,
            "min_width": null,
            "object_fit": null,
            "object_position": null,
            "order": null,
            "overflow": null,
            "overflow_x": null,
            "overflow_y": null,
            "padding": null,
            "right": null,
            "top": null,
            "visibility": null,
            "width": null
          }
        },
        "7a93da6838804293919c24cfef22cf1a": {
          "model_module": "@jupyter-widgets/base",
          "model_name": "LayoutModel",
          "model_module_version": "1.2.0",
          "state": {
            "_model_module": "@jupyter-widgets/base",
            "_model_module_version": "1.2.0",
            "_model_name": "LayoutModel",
            "_view_count": null,
            "_view_module": "@jupyter-widgets/base",
            "_view_module_version": "1.2.0",
            "_view_name": "LayoutView",
            "align_content": null,
            "align_items": null,
            "align_self": null,
            "border": null,
            "bottom": null,
            "display": null,
            "flex": null,
            "flex_flow": null,
            "grid_area": null,
            "grid_auto_columns": null,
            "grid_auto_flow": null,
            "grid_auto_rows": null,
            "grid_column": null,
            "grid_gap": null,
            "grid_row": null,
            "grid_template_areas": null,
            "grid_template_columns": null,
            "grid_template_rows": null,
            "height": null,
            "justify_content": null,
            "justify_items": null,
            "left": null,
            "margin": null,
            "max_height": null,
            "max_width": null,
            "min_height": null,
            "min_width": null,
            "object_fit": null,
            "object_position": null,
            "order": null,
            "overflow": null,
            "overflow_x": null,
            "overflow_y": null,
            "padding": null,
            "right": null,
            "top": null,
            "visibility": null,
            "width": null
          }
        },
        "c157710ad7db4589b93c180504359621": {
          "model_module": "@jupyter-widgets/controls",
          "model_name": "DescriptionStyleModel",
          "model_module_version": "1.5.0",
          "state": {
            "_model_module": "@jupyter-widgets/controls",
            "_model_module_version": "1.5.0",
            "_model_name": "DescriptionStyleModel",
            "_view_count": null,
            "_view_module": "@jupyter-widgets/base",
            "_view_module_version": "1.2.0",
            "_view_name": "StyleView",
            "description_width": ""
          }
        },
        "d9e42e34a8ac4c198caf525f4e18c4d2": {
          "model_module": "@jupyter-widgets/base",
          "model_name": "LayoutModel",
          "model_module_version": "1.2.0",
          "state": {
            "_model_module": "@jupyter-widgets/base",
            "_model_module_version": "1.2.0",
            "_model_name": "LayoutModel",
            "_view_count": null,
            "_view_module": "@jupyter-widgets/base",
            "_view_module_version": "1.2.0",
            "_view_name": "LayoutView",
            "align_content": null,
            "align_items": null,
            "align_self": null,
            "border": null,
            "bottom": null,
            "display": null,
            "flex": null,
            "flex_flow": null,
            "grid_area": null,
            "grid_auto_columns": null,
            "grid_auto_flow": null,
            "grid_auto_rows": null,
            "grid_column": null,
            "grid_gap": null,
            "grid_row": null,
            "grid_template_areas": null,
            "grid_template_columns": null,
            "grid_template_rows": null,
            "height": null,
            "justify_content": null,
            "justify_items": null,
            "left": null,
            "margin": null,
            "max_height": null,
            "max_width": null,
            "min_height": null,
            "min_width": null,
            "object_fit": null,
            "object_position": null,
            "order": null,
            "overflow": null,
            "overflow_x": null,
            "overflow_y": null,
            "padding": null,
            "right": null,
            "top": null,
            "visibility": null,
            "width": null
          }
        },
        "65d743576a6c411ea29eefd5f0f03f56": {
          "model_module": "@jupyter-widgets/controls",
          "model_name": "ProgressStyleModel",
          "model_module_version": "1.5.0",
          "state": {
            "_model_module": "@jupyter-widgets/controls",
            "_model_module_version": "1.5.0",
            "_model_name": "ProgressStyleModel",
            "_view_count": null,
            "_view_module": "@jupyter-widgets/base",
            "_view_module_version": "1.2.0",
            "_view_name": "StyleView",
            "bar_color": null,
            "description_width": ""
          }
        },
        "aed1acdda9f840a58182395f8cf36469": {
          "model_module": "@jupyter-widgets/base",
          "model_name": "LayoutModel",
          "model_module_version": "1.2.0",
          "state": {
            "_model_module": "@jupyter-widgets/base",
            "_model_module_version": "1.2.0",
            "_model_name": "LayoutModel",
            "_view_count": null,
            "_view_module": "@jupyter-widgets/base",
            "_view_module_version": "1.2.0",
            "_view_name": "LayoutView",
            "align_content": null,
            "align_items": null,
            "align_self": null,
            "border": null,
            "bottom": null,
            "display": null,
            "flex": null,
            "flex_flow": null,
            "grid_area": null,
            "grid_auto_columns": null,
            "grid_auto_flow": null,
            "grid_auto_rows": null,
            "grid_column": null,
            "grid_gap": null,
            "grid_row": null,
            "grid_template_areas": null,
            "grid_template_columns": null,
            "grid_template_rows": null,
            "height": null,
            "justify_content": null,
            "justify_items": null,
            "left": null,
            "margin": null,
            "max_height": null,
            "max_width": null,
            "min_height": null,
            "min_width": null,
            "object_fit": null,
            "object_position": null,
            "order": null,
            "overflow": null,
            "overflow_x": null,
            "overflow_y": null,
            "padding": null,
            "right": null,
            "top": null,
            "visibility": null,
            "width": null
          }
        },
        "2facb8c4c0714d07b9be36dbd1e13ed9": {
          "model_module": "@jupyter-widgets/controls",
          "model_name": "DescriptionStyleModel",
          "model_module_version": "1.5.0",
          "state": {
            "_model_module": "@jupyter-widgets/controls",
            "_model_module_version": "1.5.0",
            "_model_name": "DescriptionStyleModel",
            "_view_count": null,
            "_view_module": "@jupyter-widgets/base",
            "_view_module_version": "1.2.0",
            "_view_name": "StyleView",
            "description_width": ""
          }
        },
        "2b7df6278ff04d6b9024eeb7dfd409cc": {
          "model_module": "@jupyter-widgets/controls",
          "model_name": "HBoxModel",
          "model_module_version": "1.5.0",
          "state": {
            "_dom_classes": [],
            "_model_module": "@jupyter-widgets/controls",
            "_model_module_version": "1.5.0",
            "_model_name": "HBoxModel",
            "_view_count": null,
            "_view_module": "@jupyter-widgets/controls",
            "_view_module_version": "1.5.0",
            "_view_name": "HBoxView",
            "box_style": "",
            "children": [
              "IPY_MODEL_6ea307504a154905a83a1e9567b1b504",
              "IPY_MODEL_5c649f50524945448a2ea6a39b48aad1",
              "IPY_MODEL_c701d05475924b7caa96e3e192167d54"
            ],
            "layout": "IPY_MODEL_cecbe926ffe643db85b08884a32fdb36"
          }
        },
        "6ea307504a154905a83a1e9567b1b504": {
          "model_module": "@jupyter-widgets/controls",
          "model_name": "HTMLModel",
          "model_module_version": "1.5.0",
          "state": {
            "_dom_classes": [],
            "_model_module": "@jupyter-widgets/controls",
            "_model_module_version": "1.5.0",
            "_model_name": "HTMLModel",
            "_view_count": null,
            "_view_module": "@jupyter-widgets/controls",
            "_view_module_version": "1.5.0",
            "_view_name": "HTMLView",
            "description": "",
            "description_tooltip": null,
            "layout": "IPY_MODEL_34c333edac5a4038b8bf499fcc6ee39b",
            "placeholder": "​",
            "style": "IPY_MODEL_6bddecb3f7694be5a16736bf1b4cc311",
            "value": "Downloading (…)tencepiece.bpe.model: 100%"
          }
        },
        "5c649f50524945448a2ea6a39b48aad1": {
          "model_module": "@jupyter-widgets/controls",
          "model_name": "FloatProgressModel",
          "model_module_version": "1.5.0",
          "state": {
            "_dom_classes": [],
            "_model_module": "@jupyter-widgets/controls",
            "_model_module_version": "1.5.0",
            "_model_name": "FloatProgressModel",
            "_view_count": null,
            "_view_module": "@jupyter-widgets/controls",
            "_view_module_version": "1.5.0",
            "_view_name": "ProgressView",
            "bar_style": "success",
            "description": "",
            "description_tooltip": null,
            "layout": "IPY_MODEL_9403cefbeb3e493ca1463de7d39b1858",
            "max": 2423393,
            "min": 0,
            "orientation": "horizontal",
            "style": "IPY_MODEL_345b6821d1c546079c06a3318d68662f",
            "value": 2423393
          }
        },
        "c701d05475924b7caa96e3e192167d54": {
          "model_module": "@jupyter-widgets/controls",
          "model_name": "HTMLModel",
          "model_module_version": "1.5.0",
          "state": {
            "_dom_classes": [],
            "_model_module": "@jupyter-widgets/controls",
            "_model_module_version": "1.5.0",
            "_model_name": "HTMLModel",
            "_view_count": null,
            "_view_module": "@jupyter-widgets/controls",
            "_view_module_version": "1.5.0",
            "_view_name": "HTMLView",
            "description": "",
            "description_tooltip": null,
            "layout": "IPY_MODEL_c9686b3c0ad2410387fc63ea68269acb",
            "placeholder": "​",
            "style": "IPY_MODEL_3afe7f0114724daea926c31b2afa2813",
            "value": " 2.42M/2.42M [00:00&lt;00:00, 20.9MB/s]"
          }
        },
        "cecbe926ffe643db85b08884a32fdb36": {
          "model_module": "@jupyter-widgets/base",
          "model_name": "LayoutModel",
          "model_module_version": "1.2.0",
          "state": {
            "_model_module": "@jupyter-widgets/base",
            "_model_module_version": "1.2.0",
            "_model_name": "LayoutModel",
            "_view_count": null,
            "_view_module": "@jupyter-widgets/base",
            "_view_module_version": "1.2.0",
            "_view_name": "LayoutView",
            "align_content": null,
            "align_items": null,
            "align_self": null,
            "border": null,
            "bottom": null,
            "display": null,
            "flex": null,
            "flex_flow": null,
            "grid_area": null,
            "grid_auto_columns": null,
            "grid_auto_flow": null,
            "grid_auto_rows": null,
            "grid_column": null,
            "grid_gap": null,
            "grid_row": null,
            "grid_template_areas": null,
            "grid_template_columns": null,
            "grid_template_rows": null,
            "height": null,
            "justify_content": null,
            "justify_items": null,
            "left": null,
            "margin": null,
            "max_height": null,
            "max_width": null,
            "min_height": null,
            "min_width": null,
            "object_fit": null,
            "object_position": null,
            "order": null,
            "overflow": null,
            "overflow_x": null,
            "overflow_y": null,
            "padding": null,
            "right": null,
            "top": null,
            "visibility": null,
            "width": null
          }
        },
        "34c333edac5a4038b8bf499fcc6ee39b": {
          "model_module": "@jupyter-widgets/base",
          "model_name": "LayoutModel",
          "model_module_version": "1.2.0",
          "state": {
            "_model_module": "@jupyter-widgets/base",
            "_model_module_version": "1.2.0",
            "_model_name": "LayoutModel",
            "_view_count": null,
            "_view_module": "@jupyter-widgets/base",
            "_view_module_version": "1.2.0",
            "_view_name": "LayoutView",
            "align_content": null,
            "align_items": null,
            "align_self": null,
            "border": null,
            "bottom": null,
            "display": null,
            "flex": null,
            "flex_flow": null,
            "grid_area": null,
            "grid_auto_columns": null,
            "grid_auto_flow": null,
            "grid_auto_rows": null,
            "grid_column": null,
            "grid_gap": null,
            "grid_row": null,
            "grid_template_areas": null,
            "grid_template_columns": null,
            "grid_template_rows": null,
            "height": null,
            "justify_content": null,
            "justify_items": null,
            "left": null,
            "margin": null,
            "max_height": null,
            "max_width": null,
            "min_height": null,
            "min_width": null,
            "object_fit": null,
            "object_position": null,
            "order": null,
            "overflow": null,
            "overflow_x": null,
            "overflow_y": null,
            "padding": null,
            "right": null,
            "top": null,
            "visibility": null,
            "width": null
          }
        },
        "6bddecb3f7694be5a16736bf1b4cc311": {
          "model_module": "@jupyter-widgets/controls",
          "model_name": "DescriptionStyleModel",
          "model_module_version": "1.5.0",
          "state": {
            "_model_module": "@jupyter-widgets/controls",
            "_model_module_version": "1.5.0",
            "_model_name": "DescriptionStyleModel",
            "_view_count": null,
            "_view_module": "@jupyter-widgets/base",
            "_view_module_version": "1.2.0",
            "_view_name": "StyleView",
            "description_width": ""
          }
        },
        "9403cefbeb3e493ca1463de7d39b1858": {
          "model_module": "@jupyter-widgets/base",
          "model_name": "LayoutModel",
          "model_module_version": "1.2.0",
          "state": {
            "_model_module": "@jupyter-widgets/base",
            "_model_module_version": "1.2.0",
            "_model_name": "LayoutModel",
            "_view_count": null,
            "_view_module": "@jupyter-widgets/base",
            "_view_module_version": "1.2.0",
            "_view_name": "LayoutView",
            "align_content": null,
            "align_items": null,
            "align_self": null,
            "border": null,
            "bottom": null,
            "display": null,
            "flex": null,
            "flex_flow": null,
            "grid_area": null,
            "grid_auto_columns": null,
            "grid_auto_flow": null,
            "grid_auto_rows": null,
            "grid_column": null,
            "grid_gap": null,
            "grid_row": null,
            "grid_template_areas": null,
            "grid_template_columns": null,
            "grid_template_rows": null,
            "height": null,
            "justify_content": null,
            "justify_items": null,
            "left": null,
            "margin": null,
            "max_height": null,
            "max_width": null,
            "min_height": null,
            "min_width": null,
            "object_fit": null,
            "object_position": null,
            "order": null,
            "overflow": null,
            "overflow_x": null,
            "overflow_y": null,
            "padding": null,
            "right": null,
            "top": null,
            "visibility": null,
            "width": null
          }
        },
        "345b6821d1c546079c06a3318d68662f": {
          "model_module": "@jupyter-widgets/controls",
          "model_name": "ProgressStyleModel",
          "model_module_version": "1.5.0",
          "state": {
            "_model_module": "@jupyter-widgets/controls",
            "_model_module_version": "1.5.0",
            "_model_name": "ProgressStyleModel",
            "_view_count": null,
            "_view_module": "@jupyter-widgets/base",
            "_view_module_version": "1.2.0",
            "_view_name": "StyleView",
            "bar_color": null,
            "description_width": ""
          }
        },
        "c9686b3c0ad2410387fc63ea68269acb": {
          "model_module": "@jupyter-widgets/base",
          "model_name": "LayoutModel",
          "model_module_version": "1.2.0",
          "state": {
            "_model_module": "@jupyter-widgets/base",
            "_model_module_version": "1.2.0",
            "_model_name": "LayoutModel",
            "_view_count": null,
            "_view_module": "@jupyter-widgets/base",
            "_view_module_version": "1.2.0",
            "_view_name": "LayoutView",
            "align_content": null,
            "align_items": null,
            "align_self": null,
            "border": null,
            "bottom": null,
            "display": null,
            "flex": null,
            "flex_flow": null,
            "grid_area": null,
            "grid_auto_columns": null,
            "grid_auto_flow": null,
            "grid_auto_rows": null,
            "grid_column": null,
            "grid_gap": null,
            "grid_row": null,
            "grid_template_areas": null,
            "grid_template_columns": null,
            "grid_template_rows": null,
            "height": null,
            "justify_content": null,
            "justify_items": null,
            "left": null,
            "margin": null,
            "max_height": null,
            "max_width": null,
            "min_height": null,
            "min_width": null,
            "object_fit": null,
            "object_position": null,
            "order": null,
            "overflow": null,
            "overflow_x": null,
            "overflow_y": null,
            "padding": null,
            "right": null,
            "top": null,
            "visibility": null,
            "width": null
          }
        },
        "3afe7f0114724daea926c31b2afa2813": {
          "model_module": "@jupyter-widgets/controls",
          "model_name": "DescriptionStyleModel",
          "model_module_version": "1.5.0",
          "state": {
            "_model_module": "@jupyter-widgets/controls",
            "_model_module_version": "1.5.0",
            "_model_name": "DescriptionStyleModel",
            "_view_count": null,
            "_view_module": "@jupyter-widgets/base",
            "_view_module_version": "1.2.0",
            "_view_name": "StyleView",
            "description_width": ""
          }
        },
        "fff05a80388b44acaf7affcadbe6cc06": {
          "model_module": "@jupyter-widgets/controls",
          "model_name": "HBoxModel",
          "model_module_version": "1.5.0",
          "state": {
            "_dom_classes": [],
            "_model_module": "@jupyter-widgets/controls",
            "_model_module_version": "1.5.0",
            "_model_name": "HBoxModel",
            "_view_count": null,
            "_view_module": "@jupyter-widgets/controls",
            "_view_module_version": "1.5.0",
            "_view_name": "HBoxView",
            "box_style": "",
            "children": [
              "IPY_MODEL_e5c30a3f028940f09875589933827fe0",
              "IPY_MODEL_203e91f7469d4a1e8a0ab47f1c44ff3f",
              "IPY_MODEL_0abd96ac47ad4fc2b6862d98b2299441"
            ],
            "layout": "IPY_MODEL_751a570a93454f7fb768ad76650b9f81"
          }
        },
        "e5c30a3f028940f09875589933827fe0": {
          "model_module": "@jupyter-widgets/controls",
          "model_name": "HTMLModel",
          "model_module_version": "1.5.0",
          "state": {
            "_dom_classes": [],
            "_model_module": "@jupyter-widgets/controls",
            "_model_module_version": "1.5.0",
            "_model_name": "HTMLModel",
            "_view_count": null,
            "_view_module": "@jupyter-widgets/controls",
            "_view_module_version": "1.5.0",
            "_view_name": "HTMLView",
            "description": "",
            "description_tooltip": null,
            "layout": "IPY_MODEL_fd9e85f54f8a42309f1e4d5b9e1a1780",
            "placeholder": "​",
            "style": "IPY_MODEL_74daa0362ac1408788a915565ed22fe6",
            "value": "Downloading (…)cial_tokens_map.json: 100%"
          }
        },
        "203e91f7469d4a1e8a0ab47f1c44ff3f": {
          "model_module": "@jupyter-widgets/controls",
          "model_name": "FloatProgressModel",
          "model_module_version": "1.5.0",
          "state": {
            "_dom_classes": [],
            "_model_module": "@jupyter-widgets/controls",
            "_model_module_version": "1.5.0",
            "_model_name": "FloatProgressModel",
            "_view_count": null,
            "_view_module": "@jupyter-widgets/controls",
            "_view_module_version": "1.5.0",
            "_view_name": "ProgressView",
            "bar_style": "success",
            "description": "",
            "description_tooltip": null,
            "layout": "IPY_MODEL_e4ab7e802ae84d428b75c78b41cf2234",
            "max": 1140,
            "min": 0,
            "orientation": "horizontal",
            "style": "IPY_MODEL_4dfb79352ada4c33860509702c42a7e3",
            "value": 1140
          }
        },
        "0abd96ac47ad4fc2b6862d98b2299441": {
          "model_module": "@jupyter-widgets/controls",
          "model_name": "HTMLModel",
          "model_module_version": "1.5.0",
          "state": {
            "_dom_classes": [],
            "_model_module": "@jupyter-widgets/controls",
            "_model_module_version": "1.5.0",
            "_model_name": "HTMLModel",
            "_view_count": null,
            "_view_module": "@jupyter-widgets/controls",
            "_view_module_version": "1.5.0",
            "_view_name": "HTMLView",
            "description": "",
            "description_tooltip": null,
            "layout": "IPY_MODEL_79c3560e9f624f43b9e8f1e9b3e784ee",
            "placeholder": "​",
            "style": "IPY_MODEL_f7a2efcb65c240278a22778ce0fbc7bc",
            "value": " 1.14k/1.14k [00:00&lt;00:00, 77.7kB/s]"
          }
        },
        "751a570a93454f7fb768ad76650b9f81": {
          "model_module": "@jupyter-widgets/base",
          "model_name": "LayoutModel",
          "model_module_version": "1.2.0",
          "state": {
            "_model_module": "@jupyter-widgets/base",
            "_model_module_version": "1.2.0",
            "_model_name": "LayoutModel",
            "_view_count": null,
            "_view_module": "@jupyter-widgets/base",
            "_view_module_version": "1.2.0",
            "_view_name": "LayoutView",
            "align_content": null,
            "align_items": null,
            "align_self": null,
            "border": null,
            "bottom": null,
            "display": null,
            "flex": null,
            "flex_flow": null,
            "grid_area": null,
            "grid_auto_columns": null,
            "grid_auto_flow": null,
            "grid_auto_rows": null,
            "grid_column": null,
            "grid_gap": null,
            "grid_row": null,
            "grid_template_areas": null,
            "grid_template_columns": null,
            "grid_template_rows": null,
            "height": null,
            "justify_content": null,
            "justify_items": null,
            "left": null,
            "margin": null,
            "max_height": null,
            "max_width": null,
            "min_height": null,
            "min_width": null,
            "object_fit": null,
            "object_position": null,
            "order": null,
            "overflow": null,
            "overflow_x": null,
            "overflow_y": null,
            "padding": null,
            "right": null,
            "top": null,
            "visibility": null,
            "width": null
          }
        },
        "fd9e85f54f8a42309f1e4d5b9e1a1780": {
          "model_module": "@jupyter-widgets/base",
          "model_name": "LayoutModel",
          "model_module_version": "1.2.0",
          "state": {
            "_model_module": "@jupyter-widgets/base",
            "_model_module_version": "1.2.0",
            "_model_name": "LayoutModel",
            "_view_count": null,
            "_view_module": "@jupyter-widgets/base",
            "_view_module_version": "1.2.0",
            "_view_name": "LayoutView",
            "align_content": null,
            "align_items": null,
            "align_self": null,
            "border": null,
            "bottom": null,
            "display": null,
            "flex": null,
            "flex_flow": null,
            "grid_area": null,
            "grid_auto_columns": null,
            "grid_auto_flow": null,
            "grid_auto_rows": null,
            "grid_column": null,
            "grid_gap": null,
            "grid_row": null,
            "grid_template_areas": null,
            "grid_template_columns": null,
            "grid_template_rows": null,
            "height": null,
            "justify_content": null,
            "justify_items": null,
            "left": null,
            "margin": null,
            "max_height": null,
            "max_width": null,
            "min_height": null,
            "min_width": null,
            "object_fit": null,
            "object_position": null,
            "order": null,
            "overflow": null,
            "overflow_x": null,
            "overflow_y": null,
            "padding": null,
            "right": null,
            "top": null,
            "visibility": null,
            "width": null
          }
        },
        "74daa0362ac1408788a915565ed22fe6": {
          "model_module": "@jupyter-widgets/controls",
          "model_name": "DescriptionStyleModel",
          "model_module_version": "1.5.0",
          "state": {
            "_model_module": "@jupyter-widgets/controls",
            "_model_module_version": "1.5.0",
            "_model_name": "DescriptionStyleModel",
            "_view_count": null,
            "_view_module": "@jupyter-widgets/base",
            "_view_module_version": "1.2.0",
            "_view_name": "StyleView",
            "description_width": ""
          }
        },
        "e4ab7e802ae84d428b75c78b41cf2234": {
          "model_module": "@jupyter-widgets/base",
          "model_name": "LayoutModel",
          "model_module_version": "1.2.0",
          "state": {
            "_model_module": "@jupyter-widgets/base",
            "_model_module_version": "1.2.0",
            "_model_name": "LayoutModel",
            "_view_count": null,
            "_view_module": "@jupyter-widgets/base",
            "_view_module_version": "1.2.0",
            "_view_name": "LayoutView",
            "align_content": null,
            "align_items": null,
            "align_self": null,
            "border": null,
            "bottom": null,
            "display": null,
            "flex": null,
            "flex_flow": null,
            "grid_area": null,
            "grid_auto_columns": null,
            "grid_auto_flow": null,
            "grid_auto_rows": null,
            "grid_column": null,
            "grid_gap": null,
            "grid_row": null,
            "grid_template_areas": null,
            "grid_template_columns": null,
            "grid_template_rows": null,
            "height": null,
            "justify_content": null,
            "justify_items": null,
            "left": null,
            "margin": null,
            "max_height": null,
            "max_width": null,
            "min_height": null,
            "min_width": null,
            "object_fit": null,
            "object_position": null,
            "order": null,
            "overflow": null,
            "overflow_x": null,
            "overflow_y": null,
            "padding": null,
            "right": null,
            "top": null,
            "visibility": null,
            "width": null
          }
        },
        "4dfb79352ada4c33860509702c42a7e3": {
          "model_module": "@jupyter-widgets/controls",
          "model_name": "ProgressStyleModel",
          "model_module_version": "1.5.0",
          "state": {
            "_model_module": "@jupyter-widgets/controls",
            "_model_module_version": "1.5.0",
            "_model_name": "ProgressStyleModel",
            "_view_count": null,
            "_view_module": "@jupyter-widgets/base",
            "_view_module_version": "1.2.0",
            "_view_name": "StyleView",
            "bar_color": null,
            "description_width": ""
          }
        },
        "79c3560e9f624f43b9e8f1e9b3e784ee": {
          "model_module": "@jupyter-widgets/base",
          "model_name": "LayoutModel",
          "model_module_version": "1.2.0",
          "state": {
            "_model_module": "@jupyter-widgets/base",
            "_model_module_version": "1.2.0",
            "_model_name": "LayoutModel",
            "_view_count": null,
            "_view_module": "@jupyter-widgets/base",
            "_view_module_version": "1.2.0",
            "_view_name": "LayoutView",
            "align_content": null,
            "align_items": null,
            "align_self": null,
            "border": null,
            "bottom": null,
            "display": null,
            "flex": null,
            "flex_flow": null,
            "grid_area": null,
            "grid_auto_columns": null,
            "grid_auto_flow": null,
            "grid_auto_rows": null,
            "grid_column": null,
            "grid_gap": null,
            "grid_row": null,
            "grid_template_areas": null,
            "grid_template_columns": null,
            "grid_template_rows": null,
            "height": null,
            "justify_content": null,
            "justify_items": null,
            "left": null,
            "margin": null,
            "max_height": null,
            "max_width": null,
            "min_height": null,
            "min_width": null,
            "object_fit": null,
            "object_position": null,
            "order": null,
            "overflow": null,
            "overflow_x": null,
            "overflow_y": null,
            "padding": null,
            "right": null,
            "top": null,
            "visibility": null,
            "width": null
          }
        },
        "f7a2efcb65c240278a22778ce0fbc7bc": {
          "model_module": "@jupyter-widgets/controls",
          "model_name": "DescriptionStyleModel",
          "model_module_version": "1.5.0",
          "state": {
            "_model_module": "@jupyter-widgets/controls",
            "_model_module_version": "1.5.0",
            "_model_name": "DescriptionStyleModel",
            "_view_count": null,
            "_view_module": "@jupyter-widgets/base",
            "_view_module_version": "1.2.0",
            "_view_name": "StyleView",
            "description_width": ""
          }
        }
      }
    }
  },
  "nbformat": 4,
  "nbformat_minor": 0
}